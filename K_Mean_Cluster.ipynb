{
 "cells": [
  {
   "cell_type": "code",
   "execution_count": 1,
   "id": "a09ef24a",
   "metadata": {},
   "outputs": [],
   "source": [
    "import pandas as pd\n",
    "import numpy as np\n",
    "import random\n",
    "import matplotlib.pyplot as plt"
   ]
  },
  {
   "cell_type": "code",
   "execution_count": 2,
   "id": "22bc39eb",
   "metadata": {},
   "outputs": [],
   "source": [
    "df = pd.read_csv(\"fruit_data_with_colors.txt\", delimiter = '\\t')"
   ]
  },
  {
   "cell_type": "code",
   "execution_count": 3,
   "id": "3aa26273",
   "metadata": {},
   "outputs": [
    {
     "data": {
      "text/html": [
       "<div>\n",
       "<style scoped>\n",
       "    .dataframe tbody tr th:only-of-type {\n",
       "        vertical-align: middle;\n",
       "    }\n",
       "\n",
       "    .dataframe tbody tr th {\n",
       "        vertical-align: top;\n",
       "    }\n",
       "\n",
       "    .dataframe thead th {\n",
       "        text-align: right;\n",
       "    }\n",
       "</style>\n",
       "<table border=\"1\" class=\"dataframe\">\n",
       "  <thead>\n",
       "    <tr style=\"text-align: right;\">\n",
       "      <th></th>\n",
       "      <th>fruit_label</th>\n",
       "      <th>fruit_name</th>\n",
       "      <th>fruit_subtype</th>\n",
       "      <th>mass</th>\n",
       "      <th>width</th>\n",
       "      <th>height</th>\n",
       "      <th>color_score</th>\n",
       "    </tr>\n",
       "  </thead>\n",
       "  <tbody>\n",
       "    <tr>\n",
       "      <th>0</th>\n",
       "      <td>1</td>\n",
       "      <td>apple</td>\n",
       "      <td>granny_smith</td>\n",
       "      <td>192</td>\n",
       "      <td>8.4</td>\n",
       "      <td>7.3</td>\n",
       "      <td>0.55</td>\n",
       "    </tr>\n",
       "    <tr>\n",
       "      <th>1</th>\n",
       "      <td>1</td>\n",
       "      <td>apple</td>\n",
       "      <td>granny_smith</td>\n",
       "      <td>180</td>\n",
       "      <td>8.0</td>\n",
       "      <td>6.8</td>\n",
       "      <td>0.59</td>\n",
       "    </tr>\n",
       "    <tr>\n",
       "      <th>2</th>\n",
       "      <td>1</td>\n",
       "      <td>apple</td>\n",
       "      <td>granny_smith</td>\n",
       "      <td>176</td>\n",
       "      <td>7.4</td>\n",
       "      <td>7.2</td>\n",
       "      <td>0.60</td>\n",
       "    </tr>\n",
       "    <tr>\n",
       "      <th>3</th>\n",
       "      <td>2</td>\n",
       "      <td>mandarin</td>\n",
       "      <td>mandarin</td>\n",
       "      <td>86</td>\n",
       "      <td>6.2</td>\n",
       "      <td>4.7</td>\n",
       "      <td>0.80</td>\n",
       "    </tr>\n",
       "    <tr>\n",
       "      <th>4</th>\n",
       "      <td>2</td>\n",
       "      <td>mandarin</td>\n",
       "      <td>mandarin</td>\n",
       "      <td>84</td>\n",
       "      <td>6.0</td>\n",
       "      <td>4.6</td>\n",
       "      <td>0.79</td>\n",
       "    </tr>\n",
       "  </tbody>\n",
       "</table>\n",
       "</div>"
      ],
      "text/plain": [
       "   fruit_label fruit_name fruit_subtype  mass  width  height  color_score\n",
       "0            1      apple  granny_smith   192    8.4     7.3         0.55\n",
       "1            1      apple  granny_smith   180    8.0     6.8         0.59\n",
       "2            1      apple  granny_smith   176    7.4     7.2         0.60\n",
       "3            2   mandarin      mandarin    86    6.2     4.7         0.80\n",
       "4            2   mandarin      mandarin    84    6.0     4.6         0.79"
      ]
     },
     "execution_count": 3,
     "metadata": {},
     "output_type": "execute_result"
    }
   ],
   "source": [
    "df.head()"
   ]
  },
  {
   "cell_type": "code",
   "execution_count": 4,
   "id": "318cec2c",
   "metadata": {},
   "outputs": [
    {
     "data": {
      "text/plain": [
       "<AxesSubplot:xlabel='height', ylabel='color_score'>"
      ]
     },
     "execution_count": 4,
     "metadata": {},
     "output_type": "execute_result"
    },
    {
     "data": {
      "image/png": "[encoded data removed]",
      "text/plain": [
       "<Figure size 432x288 with 1 Axes>"
      ]
     },
     "metadata": {
      "needs_background": "light"
     },
     "output_type": "display_data"
    },
    {
     "data": {
      "image/png": "[encoded data removed]",
      "text/plain": [
       "<Figure size 432x288 with 1 Axes>"
      ]
     },
     "metadata": {
      "needs_background": "light"
     },
     "output_type": "display_data"
    }
   ],
   "source": [
    "df.plot.scatter(x = 'mass', y = 'width', color = 'black')\n",
    "df.plot.scatter(x = 'height', y = 'color_score', color = 'blue')"
   ]
  },
  {
   "cell_type": "code",
   "execution_count": 5,
   "id": "0191f854",
   "metadata": {},
   "outputs": [],
   "source": [
    "df = df.drop(columns = ['fruit_label','fruit_name','fruit_subtype'], axis = 1)"
   ]
  },
  {
   "cell_type": "code",
   "execution_count": 6,
   "id": "ab29444b",
   "metadata": {},
   "outputs": [
    {
     "data": {
      "text/html": [
       "<div>\n",
       "<style scoped>\n",
       "    .dataframe tbody tr th:only-of-type {\n",
       "        vertical-align: middle;\n",
       "    }\n",
       "\n",
       "    .dataframe tbody tr th {\n",
       "        vertical-align: top;\n",
       "    }\n",
       "\n",
       "    .dataframe thead th {\n",
       "        text-align: right;\n",
       "    }\n",
       "</style>\n",
       "<table border=\"1\" class=\"dataframe\">\n",
       "  <thead>\n",
       "    <tr style=\"text-align: right;\">\n",
       "      <th></th>\n",
       "      <th>mass</th>\n",
       "      <th>width</th>\n",
       "      <th>height</th>\n",
       "      <th>color_score</th>\n",
       "    </tr>\n",
       "  </thead>\n",
       "  <tbody>\n",
       "    <tr>\n",
       "      <th>0</th>\n",
       "      <td>192</td>\n",
       "      <td>8.4</td>\n",
       "      <td>7.3</td>\n",
       "      <td>0.55</td>\n",
       "    </tr>\n",
       "    <tr>\n",
       "      <th>1</th>\n",
       "      <td>180</td>\n",
       "      <td>8.0</td>\n",
       "      <td>6.8</td>\n",
       "      <td>0.59</td>\n",
       "    </tr>\n",
       "    <tr>\n",
       "      <th>2</th>\n",
       "      <td>176</td>\n",
       "      <td>7.4</td>\n",
       "      <td>7.2</td>\n",
       "      <td>0.60</td>\n",
       "    </tr>\n",
       "    <tr>\n",
       "      <th>3</th>\n",
       "      <td>86</td>\n",
       "      <td>6.2</td>\n",
       "      <td>4.7</td>\n",
       "      <td>0.80</td>\n",
       "    </tr>\n",
       "    <tr>\n",
       "      <th>4</th>\n",
       "      <td>84</td>\n",
       "      <td>6.0</td>\n",
       "      <td>4.6</td>\n",
       "      <td>0.79</td>\n",
       "    </tr>\n",
       "  </tbody>\n",
       "</table>\n",
       "</div>"
      ],
      "text/plain": [
       "   mass  width  height  color_score\n",
       "0   192    8.4     7.3         0.55\n",
       "1   180    8.0     6.8         0.59\n",
       "2   176    7.4     7.2         0.60\n",
       "3    86    6.2     4.7         0.80\n",
       "4    84    6.0     4.6         0.79"
      ]
     },
     "execution_count": 6,
     "metadata": {},
     "output_type": "execute_result"
    }
   ],
   "source": [
    "df.head()"
   ]
  },
  {
   "cell_type": "code",
   "execution_count": 7,
   "id": "33223c06",
   "metadata": {},
   "outputs": [],
   "source": [
    "x = np.array(df)\n",
    "random.shuffle(x)\n",
    "k = 4    "
   ]
  },
  {
   "cell_type": "code",
   "execution_count": 8,
   "id": "65d610ce",
   "metadata": {},
   "outputs": [
    {
     "data": {
      "text/plain": [
       "array([48,  3, 52, 35])"
      ]
     },
     "execution_count": 8,
     "metadata": {},
     "output_type": "execute_result"
    }
   ],
   "source": [
    "centroids_index = np.random.randint(0, 58,( 4,))\n",
    "centroids_index"
   ]
  },
  {
   "cell_type": "code",
   "execution_count": 9,
   "id": "f7e53e98",
   "metadata": {},
   "outputs": [
    {
     "data": {
      "text/plain": [
       "array([[176.  ,   7.4 ,   7.2 ,   0.6 ],\n",
       "       [192.  ,   8.4 ,   7.3 ,   0.55],\n",
       "       [154.  ,   7.  ,   7.1 ,   0.88],\n",
       "       [192.  ,   8.4 ,   7.3 ,   0.55]])"
      ]
     },
     "execution_count": 9,
     "metadata": {},
     "output_type": "execute_result"
    }
   ],
   "source": [
    "x[centroids_index]"
   ]
  },
  {
   "cell_type": "code",
   "execution_count": 10,
   "id": "04c1d2d0",
   "metadata": {},
   "outputs": [],
   "source": [
    "ctds = x[centroids_index]"
   ]
  },
  {
   "cell_type": "code",
   "execution_count": 11,
   "id": "fa2a5777",
   "metadata": {},
   "outputs": [
    {
     "data": {
      "text/plain": [
       "array([[176.  ,   7.4 ,   7.2 ,   0.6 ],\n",
       "       [192.  ,   8.4 ,   7.3 ,   0.55],\n",
       "       [154.  ,   7.  ,   7.1 ,   0.88],\n",
       "       [192.  ,   8.4 ,   7.3 ,   0.55]])"
      ]
     },
     "execution_count": 11,
     "metadata": {},
     "output_type": "execute_result"
    }
   ],
   "source": [
    "ctds"
   ]
  },
  {
   "cell_type": "code",
   "execution_count": 12,
   "id": "14197616",
   "metadata": {},
   "outputs": [],
   "source": [
    "x= np.delete(x,centroids_index, axis = 0)"
   ]
  },
  {
   "cell_type": "code",
   "execution_count": 13,
   "id": "b7340c94",
   "metadata": {},
   "outputs": [],
   "source": [
    "clusters = [[], [], [], []]\n",
    "clusters[0].append(ctds[0])\n",
    "clusters[1].append(ctds[1])\n",
    "clusters[2].append(ctds[2])\n",
    "clusters[3].append(ctds[3])"
   ]
  },
  {
   "cell_type": "code",
   "execution_count": 14,
   "id": "a0caada3",
   "metadata": {},
   "outputs": [
    {
     "data": {
      "text/plain": [
       "[[array([176. ,   7.4,   7.2,   0.6])],\n",
       " [array([192.  ,   8.4 ,   7.3 ,   0.55])],\n",
       " [array([154.  ,   7.  ,   7.1 ,   0.88])],\n",
       " [array([192.  ,   8.4 ,   7.3 ,   0.55])]]"
      ]
     },
     "execution_count": 14,
     "metadata": {},
     "output_type": "execute_result"
    }
   ],
   "source": [
    "clusters"
   ]
  },
  {
   "cell_type": "code",
   "execution_count": 15,
   "id": "b0b0b883",
   "metadata": {},
   "outputs": [],
   "source": [
    "def euclidean_distance(centroid, x):\n",
    "    difference = np.array(x) - np.array(centroid)\n",
    "    sqrd_diff = np.square(difference)\n",
    "    sum_sqrd_diff = np.sum(sqrd_diff, axis = 1)\n",
    "    distance = np.sqrt(sum_sqrd_diff)\n",
    "    \n",
    "    return distance"
   ]
  },
  {
   "cell_type": "code",
   "execution_count": 16,
   "id": "37a55fac",
   "metadata": {},
   "outputs": [
    {
     "data": {
      "text/plain": [
       "1"
      ]
     },
     "execution_count": 16,
     "metadata": {},
     "output_type": "execute_result"
    }
   ],
   "source": [
    "len(clusters[0])"
   ]
  },
  {
   "cell_type": "code",
   "execution_count": 17,
   "id": "bfa59f98",
   "metadata": {},
   "outputs": [
    {
     "data": {
      "text/plain": [
       "1"
      ]
     },
     "execution_count": 17,
     "metadata": {},
     "output_type": "execute_result"
    }
   ],
   "source": [
    "len(clusters[1])"
   ]
  },
  {
   "cell_type": "code",
   "execution_count": 18,
   "id": "ec12a76f",
   "metadata": {},
   "outputs": [
    {
     "data": {
      "text/plain": [
       "1"
      ]
     },
     "execution_count": 18,
     "metadata": {},
     "output_type": "execute_result"
    }
   ],
   "source": [
    "len(clusters[2])"
   ]
  },
  {
   "cell_type": "code",
   "execution_count": 19,
   "id": "4f22da03",
   "metadata": {},
   "outputs": [
    {
     "data": {
      "text/plain": [
       "1"
      ]
     },
     "execution_count": 19,
     "metadata": {},
     "output_type": "execute_result"
    }
   ],
   "source": [
    "len(clusters[3])"
   ]
  },
  {
   "cell_type": "code",
   "execution_count": 20,
   "id": "58f2b1c2",
   "metadata": {},
   "outputs": [],
   "source": [
    "c1 = euclidean_distance(ctds[0], x)\n",
    "c2 = euclidean_distance(ctds[1], x)\n",
    "c3 = euclidean_distance(ctds[2], x)\n",
    "c4 = euclidean_distance(ctds[3], x)"
   ]
  },
  {
   "cell_type": "code",
   "execution_count": 21,
   "id": "faa47dd6",
   "metadata": {},
   "outputs": [
    {
     "data": {
      "text/plain": [
       "array([ 16.0316094 ,  16.0316094 ,   0.        ,  92.0475752 ,\n",
       "        16.0316094 ,  96.05726886,   4.06449259,  92.0475752 ,\n",
       "        92.0475752 ,  16.0316094 ,   4.04381008,  96.05573434,\n",
       "         4.04381008,  90.0429342 ,   0.        ,   4.04381008,\n",
       "        92.0475752 ,  16.0316094 ,  12.01124473, 824.00008186,\n",
       "        12.01124473,  90.0429342 ,  10.01842802,  92.0475752 ,\n",
       "       180.02017248, 100.06419989,  22.00564473,  90.0429342 ,\n",
       "        14.00223196,  18.00600178, 100.06419989,  14.00260333,\n",
       "       100.06419989,   4.04381008,   4.01548254,  10.01842802,\n",
       "       186.0238146 ,  18.00600178,  26.01158396,  16.0316094 ,\n",
       "        14.00223196,   4.1323238 , 166.02235542,  36.00129025,\n",
       "        26.01158396,  92.0475752 , 166.02235542,  14.00223196,\n",
       "        34.00621267,  24.00121039,   3.52624446, 824.00008186,\n",
       "        34.00621267,   2.1336354 ,  34.00621267])"
      ]
     },
     "execution_count": 21,
     "metadata": {},
     "output_type": "execute_result"
    }
   ],
   "source": [
    "c1"
   ]
  },
  {
   "cell_type": "code",
   "execution_count": 22,
   "id": "289292b7",
   "metadata": {},
   "outputs": [
    {
     "data": {
      "text/plain": [
       "55"
      ]
     },
     "execution_count": 22,
     "metadata": {},
     "output_type": "execute_result"
    }
   ],
   "source": [
    "len(x)"
   ]
  },
  {
   "cell_type": "code",
   "execution_count": 23,
   "id": "1fea375f",
   "metadata": {},
   "outputs": [
    {
     "data": {
      "text/plain": [
       "55"
      ]
     },
     "execution_count": 23,
     "metadata": {},
     "output_type": "execute_result"
    }
   ],
   "source": [
    "len(c1)"
   ]
  },
  {
   "cell_type": "code",
   "execution_count": 24,
   "id": "0cf55bd6",
   "metadata": {},
   "outputs": [],
   "source": [
    "for i in x:\n",
    "    id = np.argmin(euclidean_distance(i, ctds))\n",
    "    clusters[id].append(i)"
   ]
  },
  {
   "cell_type": "code",
   "execution_count": 25,
   "id": "2870e054",
   "metadata": {},
   "outputs": [
    {
     "data": {
      "text/plain": [
       "[[array([176. ,   7.4,   7.2,   0.6]),\n",
       "  array([176. ,   7.4,   7.2,   0.6]),\n",
       "  array([180.  ,   8.  ,   6.8 ,   0.59]),\n",
       "  array([172.  ,   7.1 ,   7.6 ,   0.92]),\n",
       "  array([172.  ,   7.1 ,   7.6 ,   0.92]),\n",
       "  array([176. ,   7.4,   7.2,   0.6]),\n",
       "  array([172.  ,   7.1 ,   7.6 ,   0.92]),\n",
       "  array([166.  ,   6.9 ,   7.3 ,   0.93]),\n",
       "  array([172.  ,   7.1 ,   7.6 ,   0.92]),\n",
       "  array([172.  ,   7.4 ,   7.  ,   0.89]),\n",
       "  array([166.  ,   6.9 ,   7.3 ,   0.93]),\n",
       "  array([180.  ,   7.6 ,   8.2 ,   0.79]),\n",
       "  array([174.  ,   7.3 ,  10.1 ,   0.72]),\n",
       "  array([178.  ,   7.1 ,   7.8 ,   0.92])],\n",
       " [array([192.  ,   8.4 ,   7.3 ,   0.55]),\n",
       "  array([192.  ,   8.4 ,   7.3 ,   0.55]),\n",
       "  array([192.  ,   8.4 ,   7.3 ,   0.55]),\n",
       "  array([192.  ,   8.4 ,   7.3 ,   0.55]),\n",
       "  array([192.  ,   8.4 ,   7.3 ,   0.55]),\n",
       "  array([192.  ,   8.4 ,   7.3 ,   0.55]),\n",
       "  array([1.0e+03, 7.6e+00, 7.5e+00, 6.7e-01]),\n",
       "  array([356.  ,   9.2 ,   9.2 ,   0.75]),\n",
       "  array([362.  ,   9.6 ,   9.2 ,   0.74]),\n",
       "  array([192.  ,   8.4 ,   7.3 ,   0.55]),\n",
       "  array([342.  ,   9.  ,   9.4 ,   0.75]),\n",
       "  array([342.  ,   9.  ,   9.4 ,   0.75]),\n",
       "  array([1.0e+03, 7.6e+00, 7.5e+00, 6.7e-01])],\n",
       " [array([154.  ,   7.  ,   7.1 ,   0.88]),\n",
       "  array([84.  ,  6.  ,  4.6 ,  0.79]),\n",
       "  array([80.  ,  5.8 ,  4.3 ,  0.77]),\n",
       "  array([84.  ,  6.  ,  4.6 ,  0.79]),\n",
       "  array([84.  ,  6.  ,  4.6 ,  0.79]),\n",
       "  array([80.  ,  5.9 ,  4.3 ,  0.81]),\n",
       "  array([86. ,  6.2,  4.7,  0.8]),\n",
       "  array([84.  ,  6.  ,  4.6 ,  0.79]),\n",
       "  array([164. ,   7.3,   7.7,   0.7]),\n",
       "  array([164. ,   7.3,   7.7,   0.7]),\n",
       "  array([86. ,  6.2,  4.7,  0.8]),\n",
       "  array([84.  ,  6.  ,  4.6 ,  0.79]),\n",
       "  array([76.  ,  5.8 ,  4.  ,  0.81]),\n",
       "  array([154.  ,   7.  ,   7.1 ,   0.88]),\n",
       "  array([86. ,  6.2,  4.7,  0.8]),\n",
       "  array([162.  ,   7.4 ,   7.2 ,   0.85]),\n",
       "  array([158.  ,   7.1 ,   7.5 ,   0.79]),\n",
       "  array([76.  ,  5.8 ,  4.  ,  0.81]),\n",
       "  array([162.  ,   7.5 ,   7.1 ,   0.83]),\n",
       "  array([76.  ,  5.8 ,  4.  ,  0.81]),\n",
       "  array([158.  ,   7.1 ,   7.5 ,   0.79]),\n",
       "  array([150.  ,   7.1 ,   7.9 ,   0.75]),\n",
       "  array([162.  ,   7.4 ,   7.2 ,   0.85]),\n",
       "  array([140.  ,   7.3 ,   7.1 ,   0.87]),\n",
       "  array([150.  ,   7.1 ,   7.9 ,   0.75]),\n",
       "  array([84.  ,  6.  ,  4.6 ,  0.79]),\n",
       "  array([162.  ,   7.4 ,   7.2 ,   0.85]),\n",
       "  array([142.  ,   7.6 ,   7.8 ,   0.75]),\n",
       "  array([152.  ,   7.6 ,   7.3 ,   0.69]),\n",
       "  array([142.  ,   7.6 ,   7.8 ,   0.75]),\n",
       "  array([142.  ,   7.6 ,   7.8 ,   0.75])],\n",
       " [array([192.  ,   8.4 ,   7.3 ,   0.55])]]"
      ]
     },
     "execution_count": 25,
     "metadata": {},
     "output_type": "execute_result"
    }
   ],
   "source": [
    "clusters"
   ]
  },
  {
   "cell_type": "code",
   "execution_count": 26,
   "id": "e89996af",
   "metadata": {},
   "outputs": [],
   "source": [
    "ctds[0] = np.mean(clusters[0], axis = 0)\n",
    "ctds[1] = np.mean(clusters[1], axis = 0)\n",
    "ctds[2] = np.mean(clusters[2], axis = 0)\n",
    "ctds[3] = np.mean(clusters[3], axis = 0)"
   ]
  },
  {
   "cell_type": "code",
   "execution_count": 27,
   "id": "b3b8c525",
   "metadata": {},
   "outputs": [
    {
     "name": "stdout",
     "output_type": "stream",
     "text": [
      "Length of cluster 0 =  26\n",
      "Length of cluster 1 =  7\n",
      "Length of cluster 2 =  19\n",
      "Length of cluster 3 =  7 \n",
      "\n",
      "Length of cluster 0 =  28\n",
      "Length of cluster 1 =  3\n",
      "Length of cluster 2 =  15\n",
      "Length of cluster 3 =  13 \n",
      "\n",
      "Length of cluster 0 =  36\n",
      "Length of cluster 1 =  3\n",
      "Length of cluster 2 =  15\n",
      "Length of cluster 3 =  5 \n",
      "\n",
      "Length of cluster 0 =  36\n",
      "Length of cluster 1 =  3\n",
      "Length of cluster 2 =  15\n",
      "Length of cluster 3 =  5 \n",
      "\n",
      "Length of cluster 0 =  36\n",
      "Length of cluster 1 =  3\n",
      "Length of cluster 2 =  15\n",
      "Length of cluster 3 =  5 \n",
      "\n"
     ]
    }
   ],
   "source": [
    "for i in range(5):\n",
    "    prev_clusters = clusters\n",
    "    \n",
    "    #prev_centroids = [ctds[0], ctds[1], ctds[2], ctds[3]]\n",
    "    c1 = euclidean_distance(ctds[0], x)\n",
    "    c2 = euclidean_distance(ctds[1], x)\n",
    "    c3 = euclidean_distance(ctds[2], x)\n",
    "    c4 = euclidean_distance(ctds[3], x)\n",
    "    \n",
    "    clusters = [[], [], [], []]\n",
    "    clusters[0].append(ctds[0])\n",
    "    clusters[1].append(ctds[1])\n",
    "    clusters[2].append(ctds[2])\n",
    "    clusters[3].append(ctds[3])\n",
    "    \n",
    "    for j in x:\n",
    "        id = np.argmin(euclidean_distance(j, ctds))\n",
    "        clusters[id].append(j)\n",
    "    \n",
    "    ctds[0] = np.mean(clusters[0], axis = 0)\n",
    "    ctds[1] = np.mean(clusters[1], axis = 0)\n",
    "    ctds[2] = np.mean(clusters[2], axis = 0)\n",
    "    ctds[3] = np.mean(clusters[3], axis = 0)\n",
    "    \n",
    "    #new_centroids = [ctds[0], ctds[1], ctds[2], ctds[3]]\n",
    "    \n",
    "    #if np.array_equiv( prev_centroids, new_centroids):\n",
    "        #print(\"Centroids of newly formed clusters do not change.\")\n",
    "        #break\n",
    "    print(\"Length of cluster 0 = \", len(clusters[0]))\n",
    "    print(\"Length of cluster 1 = \", len(clusters[1]))\n",
    "    print(\"Length of cluster 2 = \", len(clusters[2]))\n",
    "    print(\"Length of cluster 3 = \", len(clusters[3]), '\\n')\n",
    "    \n",
    "    #if np.array_equiv(prev_clusters, clusters):\n",
    "       #print(\"Points remain in the same cluster.\")\n",
    "        #break\n",
    "        \n",
    "    \n",
    "#clusters"
   ]
  },
  {
   "cell_type": "code",
   "execution_count": 28,
   "id": "53901577",
   "metadata": {},
   "outputs": [
    {
     "data": {
      "text/plain": [
       "<AxesSubplot:xlabel='height', ylabel='color_score'>"
      ]
     },
     "execution_count": 28,
     "metadata": {},
     "output_type": "execute_result"
    },
    {
     "data": {
      "image/png": "[encoded data removed]",
      "text/plain": [
       "<Figure size 432x288 with 1 Axes>"
      ]
     },
     "metadata": {
      "needs_background": "light"
     },
     "output_type": "display_data"
    },
    {
     "data": {
      "image/png": "[encoded data removed]",
      "text/plain": [
       "<Figure size 432x288 with 1 Axes>"
      ]
     },
     "metadata": {
      "needs_background": "light"
     },
     "output_type": "display_data"
    }
   ],
   "source": [
    "df.plot.scatter(x='mass',\n",
    "...                       y='width',\n",
    "...                       c='DarkBlue')\n",
    "df.plot.scatter(x='height',\n",
    "...                       y='color_score',\n",
    "...                       c='DarkBlue')"
   ]
  },
  {
   "cell_type": "code",
   "execution_count": 29,
   "id": "5925b574",
   "metadata": {},
   "outputs": [
    {
     "data": {
      "text/html": [
       "<div>\n",
       "<style scoped>\n",
       "    .dataframe tbody tr th:only-of-type {\n",
       "        vertical-align: middle;\n",
       "    }\n",
       "\n",
       "    .dataframe tbody tr th {\n",
       "        vertical-align: top;\n",
       "    }\n",
       "\n",
       "    .dataframe thead th {\n",
       "        text-align: right;\n",
       "    }\n",
       "</style>\n",
       "<table border=\"1\" class=\"dataframe\">\n",
       "  <thead>\n",
       "    <tr style=\"text-align: right;\">\n",
       "      <th></th>\n",
       "      <th>mass</th>\n",
       "      <th>width</th>\n",
       "      <th>height</th>\n",
       "      <th>color_score</th>\n",
       "    </tr>\n",
       "  </thead>\n",
       "  <tbody>\n",
       "    <tr>\n",
       "      <th>0</th>\n",
       "      <td>192</td>\n",
       "      <td>8.4</td>\n",
       "      <td>7.3</td>\n",
       "      <td>0.55</td>\n",
       "    </tr>\n",
       "    <tr>\n",
       "      <th>1</th>\n",
       "      <td>180</td>\n",
       "      <td>8.0</td>\n",
       "      <td>6.8</td>\n",
       "      <td>0.59</td>\n",
       "    </tr>\n",
       "    <tr>\n",
       "      <th>2</th>\n",
       "      <td>176</td>\n",
       "      <td>7.4</td>\n",
       "      <td>7.2</td>\n",
       "      <td>0.60</td>\n",
       "    </tr>\n",
       "    <tr>\n",
       "      <th>3</th>\n",
       "      <td>86</td>\n",
       "      <td>6.2</td>\n",
       "      <td>4.7</td>\n",
       "      <td>0.80</td>\n",
       "    </tr>\n",
       "    <tr>\n",
       "      <th>4</th>\n",
       "      <td>84</td>\n",
       "      <td>6.0</td>\n",
       "      <td>4.6</td>\n",
       "      <td>0.79</td>\n",
       "    </tr>\n",
       "  </tbody>\n",
       "</table>\n",
       "</div>"
      ],
      "text/plain": [
       "   mass  width  height  color_score\n",
       "0   192    8.4     7.3         0.55\n",
       "1   180    8.0     6.8         0.59\n",
       "2   176    7.4     7.2         0.60\n",
       "3    86    6.2     4.7         0.80\n",
       "4    84    6.0     4.6         0.79"
      ]
     },
     "execution_count": 29,
     "metadata": {},
     "output_type": "execute_result"
    }
   ],
   "source": [
    "df.head()"
   ]
  },
  {
   "cell_type": "code",
   "execution_count": 30,
   "id": "03ab8d3e",
   "metadata": {},
   "outputs": [
    {
     "data": {
      "text/plain": [
       "[array([167.77129756,   7.49142376,   7.51142959,   0.75714395]),\n",
       " array([192.  ,   8.4 ,   7.3 ,   0.55]),\n",
       " array([192.  ,   8.4 ,   7.3 ,   0.55]),\n",
       " array([176. ,   7.4,   7.2,   0.6]),\n",
       " array([192.  ,   8.4 ,   7.3 ,   0.55]),\n",
       " array([180.  ,   8.  ,   6.8 ,   0.59]),\n",
       " array([192.  ,   8.4 ,   7.3 ,   0.55]),\n",
       " array([172.  ,   7.1 ,   7.6 ,   0.92]),\n",
       " array([172.  ,   7.1 ,   7.6 ,   0.92]),\n",
       " array([176. ,   7.4,   7.2,   0.6]),\n",
       " array([172.  ,   7.1 ,   7.6 ,   0.92]),\n",
       " array([192.  ,   8.4 ,   7.3 ,   0.55]),\n",
       " array([164. ,   7.3,   7.7,   0.7]),\n",
       " array([164. ,   7.3,   7.7,   0.7]),\n",
       " array([166.  ,   6.9 ,   7.3 ,   0.93]),\n",
       " array([154.  ,   7.  ,   7.1 ,   0.88]),\n",
       " array([162.  ,   7.4 ,   7.2 ,   0.85]),\n",
       " array([158.  ,   7.1 ,   7.5 ,   0.79]),\n",
       " array([162.  ,   7.5 ,   7.1 ,   0.83]),\n",
       " array([172.  ,   7.1 ,   7.6 ,   0.92]),\n",
       " array([172.  ,   7.4 ,   7.  ,   0.89]),\n",
       " array([166.  ,   6.9 ,   7.3 ,   0.93]),\n",
       " array([158.  ,   7.1 ,   7.5 ,   0.79]),\n",
       " array([150.  ,   7.1 ,   7.9 ,   0.75]),\n",
       " array([192.  ,   8.4 ,   7.3 ,   0.55]),\n",
       " array([162.  ,   7.4 ,   7.2 ,   0.85]),\n",
       " array([180.  ,   7.6 ,   8.2 ,   0.79]),\n",
       " array([140.  ,   7.3 ,   7.1 ,   0.87]),\n",
       " array([150.  ,   7.1 ,   7.9 ,   0.75]),\n",
       " array([162.  ,   7.4 ,   7.2 ,   0.85]),\n",
       " array([142.  ,   7.6 ,   7.8 ,   0.75]),\n",
       " array([152.  ,   7.6 ,   7.3 ,   0.69]),\n",
       " array([174.  ,   7.3 ,  10.1 ,   0.72]),\n",
       " array([142.  ,   7.6 ,   7.8 ,   0.75]),\n",
       " array([178.  ,   7.1 ,   7.8 ,   0.92]),\n",
       " array([142.  ,   7.6 ,   7.8 ,   0.75])]"
      ]
     },
     "execution_count": 30,
     "metadata": {},
     "output_type": "execute_result"
    }
   ],
   "source": [
    "clusters[0]"
   ]
  },
  {
   "cell_type": "code",
   "execution_count": null,
   "id": "18db302a",
   "metadata": {},
   "outputs": [],
   "source": []
  },
  {
   "cell_type": "code",
   "execution_count": 31,
   "id": "d25f4c16",
   "metadata": {},
   "outputs": [
    {
     "data": {
      "text/plain": [
       "36"
      ]
     },
     "execution_count": 31,
     "metadata": {},
     "output_type": "execute_result"
    }
   ],
   "source": [
    "len(clusters[0])"
   ]
  },
  {
   "cell_type": "code",
   "execution_count": 32,
   "id": "7ab4f821",
   "metadata": {},
   "outputs": [
    {
     "data": {
      "text/plain": [
       "3"
      ]
     },
     "execution_count": 32,
     "metadata": {},
     "output_type": "execute_result"
    }
   ],
   "source": [
    "len(clusters[1])"
   ]
  },
  {
   "cell_type": "code",
   "execution_count": 33,
   "id": "b7ca1df1",
   "metadata": {},
   "outputs": [
    {
     "data": {
      "text/plain": [
       "15"
      ]
     },
     "execution_count": 33,
     "metadata": {},
     "output_type": "execute_result"
    }
   ],
   "source": [
    "len(clusters[2])"
   ]
  },
  {
   "cell_type": "code",
   "execution_count": 34,
   "id": "e69c0f28",
   "metadata": {},
   "outputs": [
    {
     "data": {
      "text/plain": [
       "5"
      ]
     },
     "execution_count": 34,
     "metadata": {},
     "output_type": "execute_result"
    }
   ],
   "source": [
    "len(clusters[3])"
   ]
  },
  {
   "cell_type": "code",
   "execution_count": 166,
   "id": "1b72bc60",
   "metadata": {},
   "outputs": [
    {
     "data": {
      "text/plain": [
       "59"
      ]
     },
     "execution_count": 166,
     "metadata": {},
     "output_type": "execute_result"
    }
   ],
   "source": [
    "total = len(clusters[0]) + len(clusters[1]) + len(clusters[2]) + len(clusters[3])\n",
    "total"
   ]
  },
  {
   "cell_type": "code",
   "execution_count": null,
   "id": "ea1132f1",
   "metadata": {},
   "outputs": [],
   "source": []
  },
  {
   "cell_type": "code",
   "execution_count": null,
   "id": "4cc5e834",
   "metadata": {},
   "outputs": [],
   "source": []
  }
 ],
 "metadata": {
  "kernelspec": {
   "display_name": "Python 3",
   "language": "python",
   "name": "python3"
  },
  "language_info": {
   "codemirror_mode": {
    "name": "ipython",
    "version": 3
   },
   "file_extension": ".py",
   "mimetype": "text/x-python",
   "name": "python",
   "nbconvert_exporter": "python",
   "pygments_lexer": "ipython3",
   "version": "3.8.8"
  }
 },
 "nbformat": 4,
 "nbformat_minor": 5
}
